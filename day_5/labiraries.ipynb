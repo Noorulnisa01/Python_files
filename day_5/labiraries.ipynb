{
 "cells": [
  {
   "cell_type": "markdown",
   "metadata": {},
   "source": [
    "# ***Imprortant Libraries***\n",
    "\n",
    "## ***1. pandas***\n",
    "\n",
    "-   pandas stand for ***'panel data'***\n",
    "-   pandas is a Python library used for working with data sets.\n",
    "-   It has functions for analyzing, cleaning, exploring, and manipulating data. \n",
    "-   pandas is a software library written for the Python programming language for data manipulation and analysis.\n",
    "-   ***pandas is used as excel in python***\n",
    "  \n",
    "## ***2. numpy***\n",
    "\n",
    "-   numpy stand for **'numerical python'**\n",
    "-   numpy is the fundamental package for scientific computing with Python.\n",
    "-    NumPy is the **base for libraries** such as Pandas, Scikit-learn, and SciPy. It's widely used for ***performing optimized mathematical operations on large arrays.***\n",
    "  \n",
    "## ***3. matplotlib***\n",
    "\n",
    "-   matplotlib stand for ***'plotting library'***\n",
    "-   matplotlib is a plotting library for the Python programming language and its numerical mathematics extension NumPy.\n",
    "-   matplotlib is ***used to plot graphs*** in Python.\n",
    "  \n",
    "## ***4. seaborn***\n",
    "\n",
    "-   seaborn stand for ***'seaborn'*** means that ***'statistical data visualization'***\n",
    "-   seaborn is a Python data visualization library based on matplotlib.\n",
    "-   seaborn is used with matplotlib with some extra features.\n",
    "   \n",
    "## ***5. plotly***\n",
    "\n",
    "-   plotly stand for ***'plotly'*** means that ***'data visualization'***\n",
    "-   plotly is used for ***dashboards, interactive plots, and 3D graphs***, animation, and more.\n",
    "  \n",
    "## ***6. scipy***\n",
    "\n",
    "-   scipy stand for ***'scientific python'***\n",
    "-   scipy is a collection of modules for scientific computing in Python.\n",
    "-   scipy is used in ***scientific computing, statistics analysis***\n",
    "  \n",
    "## ***7. scikit-learn***\n",
    "\n",
    "-   scikit-learn stand for ***'scikit-learn'*** means that ***'machine learning'***\n",
    "-   scikit-learn is a machine learning library for python.\n",
    "-   scikit-learn is used in ***prediction of data***\n",
    "   \n",
    "## ***8. streamlit***\n",
    "\n",
    "-   streamlit stand for ***'streamlit'*** means that ***'web development'***\n",
    "-   streamlit is a collection of modules for building ***web applications***.\n",
    "-   streamlit is used in *** dashboards, web apps, and data science projects*** of extreme level.\n",
    "  \n"
   ]
  },
  {
   "cell_type": "markdown",
   "metadata": {},
   "source": [
    "# ***Note:***\n",
    "### -    You can deploy your project/thesis in ***streamlit dashboard***.\n",
    "### -    You can use make ***data science app by making dashboards on streamlit.***\n"
   ]
  },
  {
   "cell_type": "code",
   "execution_count": 1,
   "metadata": {},
   "outputs": [],
   "source": [
    "# pip install pandas numpy matplotlib seaborn"
   ]
  },
  {
   "cell_type": "code",
   "execution_count": 2,
   "metadata": {},
   "outputs": [],
   "source": [
    "import pandas as pd\n",
    "import numpy as np\n",
    "import matplotlib.pyplot as plt\n",
    "import seaborn as sns\n",
    "import plotly as px"
   ]
  }
 ],
 "metadata": {
  "kernelspec": {
   "display_name": "Python 3",
   "language": "python",
   "name": "python3"
  },
  "language_info": {
   "codemirror_mode": {
    "name": "ipython",
    "version": 3
   },
   "file_extension": ".py",
   "mimetype": "text/x-python",
   "name": "python",
   "nbconvert_exporter": "python",
   "pygments_lexer": "ipython3",
   "version": "3.11.6"
  }
 },
 "nbformat": 4,
 "nbformat_minor": 2
}
