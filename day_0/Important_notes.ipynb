{
 "cells": [
  {
   "cell_type": "markdown",
   "metadata": {},
   "source": [
    "# ***Note 1:***\n",
    "### -    You can deploy your project/thesis in ***streamlit dashboard***.\n",
    "### -    You can use make ***data science app by making dashboards on streamlit.***"
   ]
  }
 ],
 "metadata": {
  "language_info": {
   "name": "python"
  }
 },
 "nbformat": 4,
 "nbformat_minor": 2
}
